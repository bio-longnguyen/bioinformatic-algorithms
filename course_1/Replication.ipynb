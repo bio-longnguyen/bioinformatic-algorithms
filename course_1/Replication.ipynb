{
 "cells": [
  {
   "cell_type": "code",
   "execution_count": 1,
   "id": "9c079b95",
   "metadata": {},
   "outputs": [],
   "source": [
    "def FrequencyMap(Text, k):\n",
    "    n = len(Text)\n",
    "    freq = {}\n",
    "    for i in range(n-k+1):\n",
    "        Pattern = Text[i:i+k]\n",
    "        if Pattern not in freq:\n",
    "            freq[Pattern] = 0\n",
    "        freq[Pattern] += 1\n",
    "    return freq"
   ]
  },
  {
   "cell_type": "code",
   "execution_count": 1,
   "id": "8af76867",
   "metadata": {},
   "outputs": [],
   "source": [
    "# Input:  A string Text and an integer k\n",
    "# Output: A list containing all most frequent k-mers in Text\n",
    "def FrequentWords(Text, k):\n",
    "    # your code here\n",
    "    words = []\n",
    "    freq = FrequencyMap(Text,k)\n",
    "    m = max(freq.values())\n",
    "    for key in freq:\n",
    "        if freq[key] == m:\n",
    "            words.append(key)\n",
    "    return words"
   ]
  },
  {
   "cell_type": "code",
   "execution_count": 2,
   "id": "c50e7d3c",
   "metadata": {},
   "outputs": [],
   "source": [
    "# Input:  A DNA string Pattern\n",
    "# Output: The reverse complement of Pattern\n",
    "def ReverseComplement(Pattern):   \n",
    "    # your code here\n",
    "    Pattern = Reverse(Pattern)\n",
    "    Pattern = Complement(Pattern)\n",
    "    return Pattern\n",
    "\n",
    "# Copy your Reverse() function here.\n",
    "def Reverse(Pattern):\n",
    "    # your code here\n",
    "    rev = \"\"\n",
    "    for i in Pattern:\n",
    "        rev = i + rev\n",
    "    return rev\n",
    "\n",
    "# Copy your Complement() function here.\n",
    "def Complement(Pattern):\n",
    "    # your code here\n",
    "    comple = \"\"\n",
    "    for i in Pattern:\n",
    "        if i == \"A\":\n",
    "            comple += \"T\"\n",
    "        elif i == \"T\":\n",
    "            comple += \"A\"\n",
    "        elif i == \"G\":\n",
    "            comple += \"C\"\n",
    "        else: comple += \"G\"\n",
    "    return comple"
   ]
  },
  {
   "cell_type": "code",
   "execution_count": 5,
   "id": "d6830d30",
   "metadata": {},
   "outputs": [],
   "source": [
    "\"\"\"\n",
    "Pattern Matching Problem: Find all occurrences of a pattern in a string.\n",
    "     Input: Strings Pattern and Genome.\n",
    "     Output: All starting positions in Genome where Pattern appears as a substring.\n",
    "\"\"\"\n",
    "#fill in your PatternMatching() function along with any subroutines that you need.\n",
    "def PatternMatching(Pattern, Genome):\n",
    "    positions = [] # output variable\n",
    "    # your code here\n",
    "    for i in range(len(Genome)-len(Pattern)+1):\n",
    "        if Genome[i:i+len(Pattern)] == Pattern:\n",
    "            positions.append(i)\n",
    "    return positions"
   ]
  },
  {
   "cell_type": "code",
   "execution_count": 6,
   "id": "76a228b0",
   "metadata": {},
   "outputs": [],
   "source": [
    "# Input:  Strings Genome and symbol\n",
    "# Output: SymbolArray(Genome, symbol)\n",
    "def SymbolArray(Genome, symbol):\n",
    "    # type your code here\n",
    "    array = {}\n",
    "    n = len(Genome)\n",
    "    ExtendedGenome = Genome + Genome[0:n//2]\n",
    "    for i in range(n):\n",
    "        array[i] = PatternCount(symbol, ExtendedGenome[i:i+(n//2)])\n",
    "    return array\n"
   ]
  },
  {
   "cell_type": "code",
   "execution_count": 7,
   "id": "3fd30869",
   "metadata": {},
   "outputs": [],
   "source": [
    "# Input:  Strings Genome and symbol\n",
    "# Output: FasterSymbolArray(Genome, symbol)\n",
    "def FasterSymbolArray(Genome, symbol):\n",
    "    array = {}\n",
    "    # your code here\n",
    "    n = len(Genome)\n",
    "    ExtendedGenome = Genome + Genome[0:n//2]\n",
    "    \n",
    "    # look at the first half of Genome to compute first array value\n",
    "    array[0] = PatternCount(symbol, Genome[0:n//2])\n",
    "\n",
    "    for i in range(1, n):\n",
    "        # start by setting the current array value equal to the previous array value\n",
    "        array[i] = array[i-1]\n",
    "\n",
    "        # the current array value can differ from the previous array value by at most 1\n",
    "        if ExtendedGenome[i-1] == symbol:\n",
    "            array[i] = array[i]-1\n",
    "        if ExtendedGenome[i+(n//2)-1] == symbol:\n",
    "            array[i] = array[i]+1\n",
    "    return array"
   ]
  },
  {
   "cell_type": "code",
   "execution_count": 2,
   "id": "b3efca44",
   "metadata": {},
   "outputs": [
    {
     "data": {
      "text/plain": [
       "[0, 1, 0, -1, -1, -1, -1, -1, -2, -3, -2, -1, -1, -2, -3, -3, -3, -3]"
      ]
     },
     "execution_count": 2,
     "metadata": {},
     "output_type": "execute_result"
    }
   ],
   "source": [
    "# Input:  A String Genome\n",
    "# Output: The skew array of Genome as a list.\n",
    "def SkewArray(Genome):\n",
    "    array = [0]\n",
    "    cnt = 0\n",
    "    for i in Genome:\n",
    "        if i == \"C\":\n",
    "            cnt -= 1\n",
    "        elif i == \"G\":\n",
    "            cnt += 1\n",
    "        array.append(cnt)\n",
    "    return(array)\n",
    "\n",
    "SkewArray(\"GCCATTACCGGACCTTA\")"
   ]
  },
  {
   "cell_type": "code",
   "execution_count": 6,
   "id": "a0f33799",
   "metadata": {},
   "outputs": [
    {
     "data": {
      "text/plain": [
       "[18]"
      ]
     },
     "execution_count": 6,
     "metadata": {},
     "output_type": "execute_result"
    }
   ],
   "source": [
    "# Input:  A DNA string Genome\n",
    "# Output: A list containing all integers i minimizing Skew(Prefix_i(Text)) over all values of i (from 0 to |Genome|)\n",
    "def MinimumSkew(Genome):\n",
    "    positions = [] # output variable\n",
    "    # your code here\n",
    "    skew = SkewArray(Genome)\n",
    "    min_skew = min(skew)\n",
    "    for i in range(len(Genome)+1):\n",
    "        if skew[i] == min_skew:\n",
    "            positions.append(i)\n",
    "    return positions\n",
    "\n",
    "# Input:  A String Genome\n",
    "# Output: SkewArray(Genome)\n",
    "# HINT:   This code should be taken from the last Code Challenge.\n",
    "def SkewArray(Genome):\n",
    "    skew = [0] # output variable\n",
    "    # your code here\n",
    "    cnt = 0\n",
    "    for i in Genome:\n",
    "        if i == \"G\":\n",
    "            cnt += 1\n",
    "        elif i == \"C\":\n",
    "            cnt -= 1\n",
    "        skew.append(cnt)\n",
    "    return skew\n",
    "\n",
    "MinimumSkew(\"ATCCCCCACACACCACACGGGCAGCGACGGCGACGACTACAGCTACGATCGATCGATCG\")\n"
   ]
  },
  {
   "cell_type": "code",
   "execution_count": 11,
   "id": "9013a76e",
   "metadata": {},
   "outputs": [
    {
     "data": {
      "text/plain": [
       "2"
      ]
     },
     "execution_count": 11,
     "metadata": {},
     "output_type": "execute_result"
    }
   ],
   "source": [
    "def HammingDistance(p, q):\n",
    "    # your code here\n",
    "    distance = 0\n",
    "    for i in range(len(p)):\n",
    "        if p[i] != q[i]:\n",
    "            distance += 1\n",
    "    return distance\n",
    "\n",
    "HammingDistance(\"ATTCGGCCCA\", \"ATTCGCCCTA\")"
   ]
  },
  {
   "cell_type": "code",
   "execution_count": 12,
   "id": "ef073aff",
   "metadata": {},
   "outputs": [],
   "source": [
    "# Input:  Strings Pattern and Text along with an integer d\n",
    "# Output: A list containing all starting positions where Pattern appears\n",
    "# as a substring of Text with at most d mismatches\n",
    "def ApproximatePatternMatching(Text, Pattern, d):\n",
    "    positions = [] # initializing list of positions\n",
    "    # your code here\n",
    "    for i in range(len(Text) - len(Pattern)+1):\n",
    "        if Hammingdistance(Text[i:i+len(Pattern)], Pattern) <= d:\n",
    "            positions.append(i)\n",
    "    return positions"
   ]
  },
  {
   "cell_type": "code",
   "execution_count": 13,
   "id": "fd49f39d",
   "metadata": {},
   "outputs": [],
   "source": [
    "# Input:  Strings Pattern and Text, and an integer d\n",
    "# Output: The number of times Pattern appears in Text with at most d mismatches\n",
    "def ApproximatePatternCount(Pattern, Text, d):\n",
    "    count = 0 # initialize count variable\n",
    "    # your code here\n",
    "    for i in range(len(Text)-len(Pattern)+1):\n",
    "        if HammingDistance(Text[i:i+len(Pattern)], Pattern) <= d:\n",
    "            count += 1\n",
    "    return count"
   ]
  }
 ],
 "metadata": {
  "kernelspec": {
   "display_name": "Python 3 (ipykernel)",
   "language": "python",
   "name": "python3"
  },
  "language_info": {
   "codemirror_mode": {
    "name": "ipython",
    "version": 3
   },
   "file_extension": ".py",
   "mimetype": "text/x-python",
   "name": "python",
   "nbconvert_exporter": "python",
   "pygments_lexer": "ipython3",
   "version": "3.11.3"
  }
 },
 "nbformat": 4,
 "nbformat_minor": 5
}
